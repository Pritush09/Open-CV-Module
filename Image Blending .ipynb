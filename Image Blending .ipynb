{
 "cells": [
  {
   "cell_type": "code",
   "execution_count": 10,
   "id": "41bab92e",
   "metadata": {},
   "outputs": [],
   "source": [
    "import cv2 \n",
    "import numpy as np"
   ]
  },
  {
   "cell_type": "code",
   "execution_count": 12,
   "id": "c592a5fc",
   "metadata": {},
   "outputs": [
    {
     "data": {
      "text/plain": [
       "((1244, 800, 3), (797, 1280, 3))"
      ]
     },
     "execution_count": 12,
     "metadata": {},
     "output_type": "execute_result"
    }
   ],
   "source": [
    "img = cv2.imread(\"C:\\\\Users\\mynam\\Downloads\\goku.jpg\")\n",
    "img2 = cv2.imread(\"C:\\\\Users\\\\mynam\\\\Downloads\\\\tree-g359fbaf87_1280.jpg\")\n",
    "shapeimg = img.shape\n",
    "shapeimg2 = img2.shape\n",
    "shapeimg,shapeimg2"
   ]
  },
  {
   "cell_type": "code",
   "execution_count": 15,
   "id": "be1ad06a",
   "metadata": {},
   "outputs": [],
   "source": [
    "#2 important function 1. cv2.add() , 2. cv2,addWeighted()\n",
    "# Blending means adding the 2 images \n",
    "# both images should have same size before the blending operation \n",
    "img= cv2.resize(img , (760,790))\n",
    "img1 = cv2.resize(img2,(760,790))\n",
    "\n",
    "\n",
    "# blending \n",
    "simpleadd = img + img1 # simple numpy addition # in this some pixels get damaged\n",
    "\n",
    "cv2.imshow(\"img1\",img1)\n",
    "cv2.imshow(\"img\",img)\n",
    "cv2.imshow(\"add\",simpleadd)\n",
    "\n",
    "cv2.waitKey(0)\n",
    "cv2.destroyAllWindows()"
   ]
  },
  {
   "cell_type": "code",
   "execution_count": null,
   "id": "6f7f484f",
   "metadata": {},
   "outputs": [],
   "source": []
  }
 ],
 "metadata": {
  "kernelspec": {
   "display_name": "Python 3 (ipykernel)",
   "language": "python",
   "name": "python3"
  },
  "language_info": {
   "codemirror_mode": {
    "name": "ipython",
    "version": 3
   },
   "file_extension": ".py",
   "mimetype": "text/x-python",
   "name": "python",
   "nbconvert_exporter": "python",
   "pygments_lexer": "ipython3",
   "version": "3.10.0"
  }
 },
 "nbformat": 4,
 "nbformat_minor": 5
}
