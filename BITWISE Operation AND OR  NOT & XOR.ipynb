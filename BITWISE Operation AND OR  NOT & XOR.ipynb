{
 "cells": [
  {
   "cell_type": "code",
   "execution_count": 15,
   "id": "369a6c3b",
   "metadata": {},
   "outputs": [],
   "source": [
    "import cv2\n",
    "import numpy as np"
   ]
  },
  {
   "cell_type": "code",
   "execution_count": 31,
   "id": "14a83c66",
   "metadata": {},
   "outputs": [],
   "source": [
    "img = np.zeros((250,500,3),np.uint8)         \n",
    "img = cv2.rectangle(img, (150,100), (200,250), (255,255,255),-1)\n",
    "img1= np.zeros((250,500,3),np.uint8)\n",
    "img1 = cv2.rectangle(img1, (15,10), (90,150), (255,255,255),-1)\n",
    "\n",
    "cv2.imshow(\"img\",img)\n",
    "cv2.imshow(\"img1\",img1)\n",
    "if cv2.waitKey(0) & 0xFF == 27:\n",
    "    cv2.destroyAllWindows()"
   ]
  },
  {
   "cell_type": "code",
   "execution_count": 32,
   "id": "2eefd21d",
   "metadata": {},
   "outputs": [],
   "source": [
    "#Bitwise \n",
    "bitand = cv2.bitwise_and(img,img1) \n",
    "# image 1 ko 2 ke sath ya 2 ko 1 ke saath position se koi farak nahi padta\n",
    "\n",
    "bitor = cv2.bitwise_or(img, img1)\n",
    "# isme bhi position of image is not important\n",
    "\n",
    "bitnot = cv2.bitwise_not(img)\n",
    "bitnot1 = cv2.bitwise_not(img1)\n",
    "# simply not operation\n",
    "\n",
    "bitxor = cv2.bitwise_xor(img,img1)\n",
    "\n",
    "\n",
    "cv2.imshow(\"bitxor\",bitxor)\n",
    "cv2.imshow(\"bitnot\",bitnot)\n",
    "cv2.imshow(\"bitnot1\",bitnot1)\n",
    "cv2.imshow(\"Bitor\",bitor)\n",
    "cv2.imshow(\"bitand\",bitand)\n",
    "if cv2.waitKey(0) & 0xFF == 27:\n",
    "    cv2.destroyAllWindows()"
   ]
  },
  {
   "cell_type": "code",
   "execution_count": null,
   "id": "c88e474a",
   "metadata": {},
   "outputs": [],
   "source": []
  }
 ],
 "metadata": {
  "kernelspec": {
   "display_name": "Python 3 (ipykernel)",
   "language": "python",
   "name": "python3"
  },
  "language_info": {
   "codemirror_mode": {
    "name": "ipython",
    "version": 3
   },
   "file_extension": ".py",
   "mimetype": "text/x-python",
   "name": "python",
   "nbconvert_exporter": "python",
   "pygments_lexer": "ipython3",
   "version": "3.10.0"
  }
 },
 "nbformat": 4,
 "nbformat_minor": 5
}
