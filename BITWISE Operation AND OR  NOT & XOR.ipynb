{
 "cells": [
  {
   "cell_type": "code",
   "execution_count": 1,
   "id": "369a6c3b",
   "metadata": {},
   "outputs": [],
   "source": [
    "import cv2\n",
    "import numpy as np"
   ]
  },
  {
   "cell_type": "code",
   "execution_count": null,
   "id": "605ea017",
   "metadata": {},
   "outputs": [],
   "source": [
    "img = np.zeros((250,500,3))\n",
    "img = cv2.rectangle(img, (150,100), (200,250), (255,255,255),-1)\n",
    "\n",
    "img1 = np.zeros((250,500,3))\n",
    "img1 = cv2.rectangle(img1, (15,10), (90,150), (255,255,255),-1)\n",
    "\n",
    "#Bitwise \n",
    "bitand = cv2.bitwise_and(img,img1) \n",
    "# image 1 ko 2 ke sath ya 2 ko 1 ke saath position se koi farak nahi padta\n",
    "\n",
    "bitor = cv2.bitwise_or(img, img1)\n",
    "\n",
    "\n",
    "\n",
    "cv2.imshow(\"Bitor\",bitor)\n",
    "cv2.imshow(\"bitand\",bitand)\n",
    "cv2.imshow(\"img\",img)\n",
    "cv2.imshow(\"img1\",img1)\n",
    "cv2.waitKey(0)\n",
    "cv2.destroyAllWindows()"
   ]
  },
  {
   "cell_type": "code",
   "execution_count": null,
   "id": "60617f0c",
   "metadata": {},
   "outputs": [],
   "source": []
  }
 ],
 "metadata": {
  "kernelspec": {
   "display_name": "Python 3 (ipykernel)",
   "language": "python",
   "name": "python3"
  },
  "language_info": {
   "codemirror_mode": {
    "name": "ipython",
    "version": 3
   },
   "file_extension": ".py",
   "mimetype": "text/x-python",
   "name": "python",
   "nbconvert_exporter": "python",
   "pygments_lexer": "ipython3",
   "version": "3.10.0"
  }
 },
 "nbformat": 4,
 "nbformat_minor": 5
}
