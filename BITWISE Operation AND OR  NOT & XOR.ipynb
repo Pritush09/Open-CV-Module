{
 "cells": [
  {
   "cell_type": "code",
   "execution_count": 1,
   "id": "369a6c3b",
   "metadata": {},
   "outputs": [],
   "source": [
    "import cv2\n",
    "import numpy as np"
   ]
  },
  {
   "cell_type": "code",
   "execution_count": null,
   "id": "22d3ca20",
   "metadata": {},
   "outputs": [],
   "source": [
    "img = np.zeros((250,500,3))\n",
    "img = cv2.rectangle(img, (), (), (200,22,255),-`)"
   ]
  }
 ],
 "metadata": {
  "kernelspec": {
   "display_name": "Python 3 (ipykernel)",
   "language": "python",
   "name": "python3"
  },
  "language_info": {
   "codemirror_mode": {
    "name": "ipython",
    "version": 3
   },
   "file_extension": ".py",
   "mimetype": "text/x-python",
   "name": "python",
   "nbconvert_exporter": "python",
   "pygments_lexer": "ipython3",
   "version": "3.10.0"
  }
 },
 "nbformat": 4,
 "nbformat_minor": 5
}
