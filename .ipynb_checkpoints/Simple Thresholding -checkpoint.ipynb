{
 "cells": [
  {
   "cell_type": "code",
   "execution_count": 1,
   "id": "02881bcc",
   "metadata": {},
   "outputs": [],
   "source": [
    "import cv2\n",
    "import numpy as np"
   ]
  },
  {
   "cell_type": "markdown",
   "id": "3e690ad1",
   "metadata": {},
   "source": [
    "# Thresholding \n",
    "* it is used to extract a selected data from an image by the pixel value\n",
    "* Also use to manage pixels and divide all values into 2 parts\n",
    "\n",
    "Ex - if u want to remove the background of an image\n",
    "\n",
    "IN this we basically compare each pixel with a choosen single pixel value by us and then split it into 2 parts lower and upper "
   ]
  },
  {
   "cell_type": "code",
   "execution_count": null,
   "id": "b0c17338",
   "metadata": {},
   "outputs": [],
   "source": [
    "# 3 types of thresholding \n",
    "# Adaptive thresholding, Otsu thresholding and Binary thresholding."
   ]
  },
  {
   "cell_type": "code",
   "execution_count": 4,
   "id": "7256b17d",
   "metadata": {},
   "outputs": [],
   "source": [
    "img = cv2.imread(\"C:/Users/mynam/Downloads/goku.jpg\",0)\n",
    "img = cv2.resize(img,(760,780))"
   ]
  },
  {
   "cell_type": "code",
   "execution_count": 5,
   "id": "f38f9f5b",
   "metadata": {},
   "outputs": [],
   "source": [
    "# the parameters the simple thresholding accepts (img, pixel_thresh, ma_thresh_pixel, style)\n",
    "_ , th1 = cv2.threshold(img, 50, 255, cv2.THRESH_BINARY) # th1 is data\n",
    "# 50 ya usse niche ka vlaues 0 set hoga aur baki 255\n",
    "\n",
    "\n",
    "\n",
    "cv2.imshow(\"img\",img)\n",
    "if cv2.waitKey(0)==27:\n",
    "    cv2.destroyAllWindows()"
   ]
  },
  {
   "cell_type": "code",
   "execution_count": null,
   "id": "08247c7c",
   "metadata": {},
   "outputs": [],
   "source": []
  }
 ],
 "metadata": {
  "kernelspec": {
   "display_name": "Python 3 (ipykernel)",
   "language": "python",
   "name": "python3"
  },
  "language_info": {
   "codemirror_mode": {
    "name": "ipython",
    "version": 3
   },
   "file_extension": ".py",
   "mimetype": "text/x-python",
   "name": "python",
   "nbconvert_exporter": "python",
   "pygments_lexer": "ipython3",
   "version": "3.10.0"
  }
 },
 "nbformat": 4,
 "nbformat_minor": 5
}
