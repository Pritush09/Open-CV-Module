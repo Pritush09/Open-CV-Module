{
 "cells": [
  {
   "cell_type": "code",
   "execution_count": 2,
   "id": "bf940fcb",
   "metadata": {},
   "outputs": [],
   "source": [
    "import cv2 \n",
    "import numpy as np"
   ]
  },
  {
   "cell_type": "code",
   "execution_count": 3,
   "id": "ddddb25a",
   "metadata": {},
   "outputs": [],
   "source": [
    "img = cv2.imread(\"C:\\\\Users\\mynam\\Downloads\\goku.jpg\")\n",
    "img2 = cv2.imread(\"C:\\\\Users\\\\mynam\\\\Downloads\\\\tree-g359fbaf87_1280.jpg\")"
   ]
  },
  {
   "cell_type": "code",
   "execution_count": 4,
   "id": "a023aec7",
   "metadata": {},
   "outputs": [],
   "source": [
    "img= cv2.resize(img , (760,790))\n",
    "img1 = cv2.resize(img2,(760,790))"
   ]
  },
  {
   "cell_type": "code",
   "execution_count": 5,
   "id": "02d0a85b",
   "metadata": {},
   "outputs": [],
   "source": [
    "def blend(x):\n",
    "    pass"
   ]
  },
  {
   "cell_type": "code",
   "execution_count": 9,
   "id": "2cc051f7",
   "metadata": {},
   "outputs": [],
   "source": [
    "imgcreate = np.zeros((400,400,3))\n",
    "cv2.namedWindow(\"IMG\")\n",
    "cv2.createTrackbar(\"alpha\",\"IMG\",1,100,blend)\n",
    "switch = \"0:OFF\\n1:ON\"\n",
    "cv2.createTrackbar(switch,\"IMG\",0,1,blend)\n",
    "\n",
    "#cv2.imshow(\"img1\",img)\n",
    "#cv2.imshow(\"img2\",img1)\n",
    "cv2.waitKey(0)\n",
    "cv2.destroyAllWindows()"
   ]
  },
  {
   "cell_type": "code",
   "execution_count": null,
   "id": "8bef9135",
   "metadata": {},
   "outputs": [],
   "source": []
  },
  {
   "cell_type": "code",
   "execution_count": null,
   "id": "7dd8c92c",
   "metadata": {},
   "outputs": [],
   "source": []
  },
  {
   "cell_type": "code",
   "execution_count": null,
   "id": "35118835",
   "metadata": {},
   "outputs": [],
   "source": []
  },
  {
   "cell_type": "code",
   "execution_count": null,
   "id": "9c610543",
   "metadata": {},
   "outputs": [],
   "source": []
  }
 ],
 "metadata": {
  "kernelspec": {
   "display_name": "Python 3 (ipykernel)",
   "language": "python",
   "name": "python3"
  },
  "language_info": {
   "codemirror_mode": {
    "name": "ipython",
    "version": 3
   },
   "file_extension": ".py",
   "mimetype": "text/x-python",
   "name": "python",
   "nbconvert_exporter": "python",
   "pygments_lexer": "ipython3",
   "version": "3.10.0"
  }
 },
 "nbformat": 4,
 "nbformat_minor": 5
}
