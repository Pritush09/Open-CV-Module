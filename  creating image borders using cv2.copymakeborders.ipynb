{
 "cells": [
  {
   "cell_type": "code",
   "execution_count": 1,
   "id": "406f2f1d",
   "metadata": {},
   "outputs": [],
   "source": [
    "import cv2\n",
    "import numpy as np"
   ]
  },
  {
   "cell_type": "code",
   "execution_count": 3,
   "id": "8857064f",
   "metadata": {},
   "outputs": [],
   "source": [
    "img = cv2.imread(\"C:\\\\Users\\mynam\\Downloads\\goku.jpg\")\n",
    "img = cv2.resize(img,(760,790))\n",
    "cv2.imshow(\"img\",img)\n",
    "cv2.waitKey(0)\n",
    "cv2.destroyAllWindows()"
   ]
  },
  {
   "cell_type": "code",
   "execution_count": null,
   "id": "9a530789",
   "metadata": {},
   "outputs": [],
   "source": [
    "# cv2.copymakeborders() for image borders\n",
    "# parameters  ( img , border_width(4 sided) , border_Type , val_berder(colour value) )\n",
    "# border_width = top , bottom , right , left\n",
    "\n",
    "bdr = cv2.copyMakeBorder(img, 10,10,5,5,cv2.BORDER_CONSTANT,value=[255,0,255])\n"
   ]
  }
 ],
 "metadata": {
  "kernelspec": {
   "display_name": "Python 3 (ipykernel)",
   "language": "python",
   "name": "python3"
  },
  "language_info": {
   "codemirror_mode": {
    "name": "ipython",
    "version": 3
   },
   "file_extension": ".py",
   "mimetype": "text/x-python",
   "name": "python",
   "nbconvert_exporter": "python",
   "pygments_lexer": "ipython3",
   "version": "3.10.0"
  }
 },
 "nbformat": 4,
 "nbformat_minor": 5
}
